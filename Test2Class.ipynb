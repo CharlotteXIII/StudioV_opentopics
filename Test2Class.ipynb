{
 "cells": [
  {
   "cell_type": "markdown",
   "metadata": {},
   "source": [
    "## MNE Classification of 2 Class\n",
    "\n",
    "- Preprocessing\n",
    "- Feature Extraction\n",
    "- Classification\n",
    "\n",
    "link to dataset: https://ieee-dataport.org/documents/upper-limb-rehabilitation-motor-imagery-eeg-signals\n",
    "\n",
    "- EEG Placement 10-20 electrode system\n",
    "\n",
    "- Notch filter 50 hz applied\n",
    "\n",
    "- 8th order chebyshev bandpass filter 0.01 hz - 200hz appiled\n",
    "\n",
    "- Sampling rate 500 Hz"
   ]
  },
  {
   "cell_type": "code",
   "execution_count": 46,
   "metadata": {},
   "outputs": [],
   "source": [
    "import os\n",
    "from collections import Counter\n",
    "import matplotlib.pyplot as plt\n",
    "import numpy as np\n",
    "import re\n",
    "import mne\n",
    "from mne.preprocessing import ICA\n",
    "from mne_icalabel import label_components\n",
    "import onnxruntime\n",
    "import torch\n",
    "import seaborn as sns\n",
    "import pandas as pd\n",
    "from mne.decoding import CSP\n",
    "from sklearn.preprocessing import LabelEncoder\n",
    "from sklearn.svm import SVC\n",
    "from sklearn.model_selection import cross_val_score,train_test_split\n",
    "from sklearn.pipeline import Pipeline\n",
    "from sklearn.model_selection import GridSearchCV, StratifiedKFold, train_test_split, cross_val_score\n",
    "from sklearn.discriminant_analysis import LinearDiscriminantAnalysis\n",
    "from sklearn.metrics import (\n",
    "    classification_report,\n",
    "    confusion_matrix,\n",
    "    ConfusionMatrixDisplay,\n",
    "    accuracy_score,\n",
    "    roc_auc_score,\n",
    "    RocCurveDisplay\n",
    ")\n",
    "from sklearn.preprocessing import label_binarize"
   ]
  },
  {
   "cell_type": "markdown",
   "metadata": {},
   "source": [
    "#### Step 1: READ Dataset \n",
    "\n",
    "- read all subjects"
   ]
  },
  {
   "cell_type": "code",
   "execution_count": 47,
   "metadata": {},
   "outputs": [],
   "source": [
    "folder_path = 'G:\\\\KMUTT\\\\Y3_Term2\\\\Studio_OpenTopic\\\\StudioV_opentopics\\\\Dataset_used'"
   ]
  },
  {
   "cell_type": "code",
   "execution_count": 48,
   "metadata": {},
   "outputs": [
    {
     "ename": "SyntaxError",
     "evalue": "expected 'except' or 'finally' block (1732560627.py, line 38)",
     "output_type": "error",
     "traceback": [
      "\u001b[1;36m  Cell \u001b[1;32mIn[48], line 38\u001b[1;36m\u001b[0m\n\u001b[1;33m    X_all = np.stack(all_X, axis=0)\u001b[0m\n\u001b[1;37m                                   ^\u001b[0m\n\u001b[1;31mSyntaxError\u001b[0m\u001b[1;31m:\u001b[0m expected 'except' or 'finally' block\n"
     ]
    }
   ],
   "source": [
    "subjects = [1, 2, 3, 4, 5, 6]  # ใช้ทุกคน\n",
    "\n",
    "# Label mapping สำหรับ elbow flexion และ extension\n",
    "label_map = {\n",
    "    'elbow flexion': 0,\n",
    "    'elbow extension': 1\n",
    "}\n",
    "\n",
    "# Helper สำหรับเรียง run\n",
    "def extract_run_num(name):\n",
    "    match = re.search(r'R(\\d+)', name)\n",
    "    return int(match.group(1)) if match else 0\n",
    "\n",
    "# เตรียมเก็บข้อมูลทั้งหมด\n",
    "all_X = []\n",
    "all_y = []\n",
    "\n",
    "# Loop ทุก subject และทุก run\n",
    "for subject in subjects:\n",
    "    for file_name in sorted(os.listdir(folder_path), key=extract_run_num):\n",
    "        if file_name.startswith(f\"S{subject}R\") and file_name.endswith(\".set\"):\n",
    "            path = os.path.join(folder_path, file_name)\n",
    "            print(f\"Reading {file_name}...\")\n",
    "\n",
    "            try:\n",
    "                epochs = mne.io.read_epochs_eeglab(path, verbose='ERROR')\n",
    "                id_to_name = {v: k for k, v in epochs.event_id.items()}\n",
    "\n",
    "                for i, eid in enumerate(epochs.events[:, 2]):\n",
    "                    full_name = id_to_name[eid]\n",
    "                    action = full_name.split('_')[-1]\n",
    "                    if action in label_map:\n",
    "                        signal = epochs.get_data()[i]\n",
    "                        all_X.append(signal)\n",
    "                        all_y.append(label_map[action])\n",
    "\n",
    "# แปลงให้เป็น numpy array\n",
    "X_all = np.stack(all_X, axis=0)\n",
    "y_all = np.array(all_y)"
   ]
  },
  {
   "cell_type": "code",
   "execution_count": null,
   "metadata": {},
   "outputs": [
    {
     "name": "stdout",
     "output_type": "stream",
     "text": [
      "✅ รวมข้อมูลเสร็จแล้ว:\n"
     ]
    },
    {
     "ename": "NameError",
     "evalue": "name 'X_all' is not defined",
     "output_type": "error",
     "traceback": [
      "\u001b[1;31m---------------------------------------------------------------------------\u001b[0m",
      "\u001b[1;31mNameError\u001b[0m                                 Traceback (most recent call last)",
      "Cell \u001b[1;32mIn[45], line 2\u001b[0m\n\u001b[0;32m      1\u001b[0m \u001b[38;5;28mprint\u001b[39m(\u001b[38;5;124m\"\u001b[39m\u001b[38;5;124m✅ รวมข้อมูลเสร็จแล้ว:\u001b[39m\u001b[38;5;124m\"\u001b[39m)\n\u001b[1;32m----> 2\u001b[0m \u001b[38;5;28mprint\u001b[39m(\u001b[38;5;124m\"\u001b[39m\u001b[38;5;124m🧠 Shape of EEG:\u001b[39m\u001b[38;5;124m\"\u001b[39m, \u001b[43mX_all\u001b[49m\u001b[38;5;241m.\u001b[39mshape)\n\u001b[0;32m      3\u001b[0m \u001b[38;5;28mprint\u001b[39m(\u001b[38;5;124m\"\u001b[39m\u001b[38;5;124m🏷️ Shape of labels:\u001b[39m\u001b[38;5;124m\"\u001b[39m, y_all\u001b[38;5;241m.\u001b[39mshape)\n\u001b[0;32m      4\u001b[0m \u001b[38;5;28mprint\u001b[39m(\u001b[38;5;124m\"\u001b[39m\u001b[38;5;124m🔢 Label counts:\u001b[39m\u001b[38;5;124m\"\u001b[39m, np\u001b[38;5;241m.\u001b[39mbincount(y_all))\n",
      "\u001b[1;31mNameError\u001b[0m: name 'X_all' is not defined"
     ]
    }
   ],
   "source": [
    "# แสดงผล\n",
    "print(\"รวมข้อมูล S1–S6 เสร็จแล้ว:\")\n",
    "print(\"Shape of EEG:\", X_all.shape)\n",
    "print(\"Shape of labels:\", y_all.shape)\n",
    "print(\"Label counts (0=flexion, 1=extension):\", np.bincount(y_all))"
   ]
  }
 ],
 "metadata": {
  "kernelspec": {
   "display_name": "Python 3",
   "language": "python",
   "name": "python3"
  },
  "language_info": {
   "codemirror_mode": {
    "name": "ipython",
    "version": 3
   },
   "file_extension": ".py",
   "mimetype": "text/x-python",
   "name": "python",
   "nbconvert_exporter": "python",
   "pygments_lexer": "ipython3",
   "version": "3.11.2"
  }
 },
 "nbformat": 4,
 "nbformat_minor": 2
}
